{
  "nbformat": 4,
  "nbformat_minor": 0,
  "metadata": {
    "colab": {
      "name": "file_save_final.ipynb",
      "provenance": [],
      "collapsed_sections": []
    },
    "kernelspec": {
      "name": "python3",
      "display_name": "Python 3"
    }
  },
  "cells": [
    {
      "cell_type": "code",
      "metadata": {
        "colab": {
          "base_uri": "https://localhost:8080/"
        },
        "id": "JILf7ToopBQy",
        "outputId": "a39bc028-64d2-47fc-8b68-df8ffc85fd4c"
      },
      "source": [
        "!pip install wget"
      ],
      "execution_count": 1,
      "outputs": [
        {
          "output_type": "stream",
          "text": [
            "Collecting wget\n",
            "  Downloading https://files.pythonhosted.org/packages/47/6a/62e288da7bcda82b935ff0c6cfe542970f04e29c756b0e147251b2fb251f/wget-3.2.zip\n",
            "Building wheels for collected packages: wget\n",
            "  Building wheel for wget (setup.py) ... \u001b[?25l\u001b[?25hdone\n",
            "  Created wheel for wget: filename=wget-3.2-cp37-none-any.whl size=9681 sha256=ecd70257551363cc4f329cc89776997bb9b1939d74ddb5b2163c87f1fdc7415f\n",
            "  Stored in directory: /root/.cache/pip/wheels/40/15/30/7d8f7cea2902b4db79e3fea550d7d7b85ecb27ef992b618f3f\n",
            "Successfully built wget\n",
            "Installing collected packages: wget\n",
            "Successfully installed wget-3.2\n"
          ],
          "name": "stdout"
        }
      ]
    },
    {
      "cell_type": "code",
      "metadata": {
        "id": "EwJxxO_qpHgc"
      },
      "source": [
        "\n",
        "import wget\n",
        " \n",
        "# function to download and save file \n",
        "def file_download(file_url):\n",
        "  try:\n",
        "    #file_name = file_url.split('/')[-1] \n",
        "    #file_name = 'tf_lite.apk'\n",
        "    wget.download(file_url)\n",
        "    message = 'file saved'\n",
        "  except:\n",
        "    message = \"Unable to download file\"\n",
        "  return message\n",
        "\n"
      ],
      "execution_count": 2,
      "outputs": []
    },
    {
      "cell_type": "code",
      "metadata": {
        "id": "EHCghUe_pIkF",
        "colab": {
          "base_uri": "https://localhost:8080/"
        },
        "outputId": "fbd575c4-d988-4718-a57a-9e09cec2c43f"
      },
      "source": [
        "import time\n",
        "import json\n",
        "import requests\n",
        "\n",
        "'''\n",
        "# variable to share\n",
        "url_1 = \"Value 1\"\n",
        "url_2 = \"Value 2\"\n",
        "url_3 = \"Value 3\"\n",
        "url_4 = \"Value 4\"\n",
        "'''\n",
        "\n",
        "url_1 = input('Enter url_1')\n",
        "url_2 = input('Enter url_2')\n",
        "MODEL_INPUT_SIZE = input('Enter MODEL_INPUT_SIZE')\n",
        "IS_MODEL_QUANTIZED = input('Enter IS_MODEL_QUANTIZED')\n",
        "\n",
        "\n",
        "status = 'building'\n",
        "# ngrok url from server\n",
        "ngrok_url = 'https://6aea7ca695bb.ngrok.io/'\n",
        "url = ngrok_url+\"start\"\n",
        "\n",
        "payload=  json.dumps({\"url_1\":url_1,\"url_2\":url_2,\"MODEL_INPUT_SIZE\":MODEL_INPUT_SIZE,\"IS_MODEL_QUANTIZED\":IS_MODEL_QUANTIZED})\n",
        "\n",
        "# api call to send variables\n",
        "headers = {\n",
        "  'Content-Type': 'application/json'\n",
        "}\n",
        "\n",
        "response_start = requests.request(\"POST\", url, headers=headers, data=payload)\n",
        "\n",
        "print(response_start.text)\n",
        "\n",
        "# checking the stataus \n",
        "while status == 'building':\n",
        "\n",
        "  time.sleep(2)\n",
        "  url_status= ngrok_url+\"status\"\n",
        "\n",
        "  # API call check the stataus \n",
        "  payload={}\n",
        "  headers = {}\n",
        "\n",
        "  response_status = requests.request(\"GET\", url_status, headers=headers, data=payload)\n",
        "\n",
        "  print(response_status.text)\n",
        "  print(status)\n",
        "  status = 'completed'\n",
        "\n",
        "  # API call to get url to download apk\n",
        "  url = ngrok_url+\"getLink\"\n",
        "  payload={}\n",
        "  headers = {}\n",
        "\n",
        "  response_url = requests.request(\"GET\", url, headers=headers, data=payload)\n",
        "\n",
        "  print(response_url.text)\n",
        "  data = json.loads(response_url.text)\n",
        "  # funcrion call to download apk\n",
        "  message = file_download(data['data'])\n",
        "  print(message)\n"
      ],
      "execution_count": 4,
      "outputs": [
        {
          "output_type": "stream",
          "text": [
            "Enter url_1https://firststep.ai/invitation/labelmap.txt\n",
            "Enter url_2https://firststep.ai/invitation/detect.tflite\n",
            "Enter MODEL_INPUT_SIZE300\n",
            "Enter IS_MODEL_QUANTIZEDtrue\n",
            "{\"data\":{\"url_1\":\"https://firststep.ai/invitation/labelmap.txt\",\"url_2\":\"https://firststep.ai/invitation/detect.tflite\",\"MODEL_INPUT_SIZE\":\"300\",\"IS_MODEL_QUANTIZED\":\"true\"},\"message\":\"build started\",\"error\":false}\n",
            "{\"data\":\"building\",\"message\":\"fetch status\",\"error\":false}\n",
            "building\n",
            "{\"data\":\"https://1cc62d3adc4c.ngrok.io/download/app-interpreter-debug.apk\",\"message\":\"fetch link\",\"error\":false}\n",
            "Unable to download file\n"
          ],
          "name": "stdout"
        }
      ]
    },
    {
      "cell_type": "code",
      "metadata": {
        "id": "gZOAP7IDZvWV"
      },
      "source": [
        "\n",
        "https://1cc62d3adc4c.ngrok.io/download/app-interpreter-debug.apk"
      ],
      "execution_count": null,
      "outputs": []
    },
    {
      "cell_type": "code",
      "metadata": {
        "id": "kl9jKTKaawOf"
      },
      "source": [
        "wget.download('https://6aea7ca695bb.ngrok.io/download/app-interpreter-debug.apk')"
      ],
      "execution_count": null,
      "outputs": []
    },
    {
      "cell_type": "code",
      "metadata": {
        "id": "bSJglw52P254"
      },
      "source": [
        ""
      ],
      "execution_count": null,
      "outputs": []
    }
  ]
}